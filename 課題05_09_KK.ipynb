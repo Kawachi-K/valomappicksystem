{
  "nbformat": 4,
  "nbformat_minor": 0,
  "metadata": {
    "colab": {
      "provenance": []
    },
    "kernelspec": {
      "name": "python3",
      "display_name": "Python 3"
    },
    "language_info": {
      "name": "python"
    }
  },
  "cells": [
    {
      "cell_type": "markdown",
      "source": [
        "# **Valorant専用マップ選択＆Banツール**\n",
        "\n",
        "## **概要**\n",
        "\n",
        "・タクティカルシューティングゲームである「Valorant」において試合で用いるマップをランダムに導出するツール。\n",
        "\n",
        "さらに、攻撃スタート側、防衛スタート側チームそれぞれが１マップずつプレイしたくない１つのマップをランダムから除外するマップBanシステムを導入済み。\n",
        "\n",
        "\n",
        "\n",
        "## **操作方法**\n",
        "\n",
        "①プログラム実行後、攻撃スタートのチームから`input()`により出てくるテキストボックスに、Banしたいマップの名称を入力します。マップは全部で九つあり、<font color= \"red\">アセント、バインド、スプリット、ヘイブン、アイスボックス、フラクチャー、ブリーズ、パール、ロータス、サンセット</font>の中から選択してください。\n",
        "\n",
        "②攻撃側チームの入力が終わったら、Enterキーを押し、同様に防衛側チームもBanしたいマップの名称を入力します。\n",
        "\n",
        "③防衛側チームも入力後、Enterキーを押すと、ランダムに１マップが選択されます。この際、両チームのBanの順番は影響しないため、テキストには順番の指定があるが、守らなくても差はありません。\n",
        "\n",
        "## **制作者のコメント**\n",
        "\n",
        "当初はブラックジャックを作る予定だったが、実用性の無さと、トランプのAの扱いについてのプログラムが現在までに習った、調べたことではわからなかったため断念。ならばどうせなら今後自分が好きなゲームをするうえで少し役に立つものを作ろうと考えた。\n",
        "\n",
        "## **作成時間**\n",
        "\n",
        "作成時間：**約11時間**"
      ],
      "metadata": {
        "id": "BNb7I1FCMlFJ"
      }
    },
    {
      "cell_type": "code",
      "source": [
        "#@title 初期化 ( %reset -f )\n",
        "%reset -f\n",
        "import random as r"
      ],
      "metadata": {
        "id": "NGuL7doEPtzI"
      },
      "execution_count": null,
      "outputs": []
    },
    {
      "cell_type": "markdown",
      "source": [
        "##メイン処理"
      ],
      "metadata": {
        "id": "InSFEsR3NvjS"
      }
    },
    {
      "cell_type": "code",
      "source": [
        "map_all = 'バインド','スプリット','アイスボックス','ヘイブン','アセント','ブリーズ','フラクチャー','パール','ロータス','サンセット'\n",
        "print(\"マップ名は日本語、カタカナで入力してください。\")\n",
        "banat = input('アタッカーチームは、Banするマップを選択してください。')\n",
        "bandf = input('ディフェンダーチームは、Banするマップを選んでください。')\n",
        "pickmap = r.choice(map_all)\n",
        "if pickmap == banat :\n",
        "  pickmap = r.choice(map_all)\n",
        "elif pickmap == bandf :\n",
        "  pickmap = r.choice(map_all)\n",
        "else :\n",
        "  print(f'今回のマップは{pickmap}になりました')"
      ],
      "metadata": {
        "id": "vmojn7mFpnua",
        "colab": {
          "base_uri": "https://localhost:8080/"
        },
        "outputId": "d1a3008b-fd9f-412a-d851-6c585241914d"
      },
      "execution_count": null,
      "outputs": [
        {
          "output_type": "stream",
          "name": "stdout",
          "text": [
            "マップ名は日本語、カタカナで入力してください。\n",
            "アタッカーチームは、Banするマップを選択してください。アセント\n",
            "ディフェンダーチームは、Banするマップを選んでください。アイスボックス\n",
            "今回のマップはロータスになりました\n"
          ]
        }
      ]
    }
  ]
}